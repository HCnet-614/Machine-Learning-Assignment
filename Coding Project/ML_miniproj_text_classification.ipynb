{
  "cells": [
    {
      "cell_type": "markdown",
      "metadata": {
        "id": "Tg7yJEafX6iI"
      },
      "source": [
        "## 1. Prepare dataset\n",
        "\n",
        "- Use gdown ([github-link](https://github.com/wkentaro/gdown)) to download large file data.\n",
        "- Description this dataset: \n",
        "  - This dataset is generated from GEO (a well-known semantic parsing dataset).The target of this dataset is the relation between the natural sentence and logic-term of its. \n",
        "  - It contains 5 columns ['label', '#1 ID', '#2 ID', 'sentence1', 'sentence2']. We only use 'sentence1',  'sentence2'  and 'label' as a input features and label of each training/testing sample, separately. \n",
        "  - Size of this dataset: 20400 training samples, 3400 dev samples, around 9500 private test samples.   \n",
        "- Note: **Undeditable** mean that edit this part code is not accepted. \n"
      ]
    },
    {
      "cell_type": "code",
      "execution_count": null,
      "metadata": {
        "colab": {
          "base_uri": "https://localhost:8080/"
        },
        "id": "oqtxOGyQ_WS1",
        "outputId": "111907d7-15bc-457d-bd12-44bf70b8b7f8"
      },
      "outputs": [
        {
          "output_type": "stream",
          "name": "stdout",
          "text": [
            "Requirement already satisfied: gdown in /usr/local/lib/python3.7/dist-packages (4.2.0)\n",
            "Requirement already satisfied: requests[socks] in /usr/local/lib/python3.7/dist-packages (from gdown) (2.23.0)\n",
            "Requirement already satisfied: tqdm in /usr/local/lib/python3.7/dist-packages (from gdown) (4.62.3)\n",
            "Requirement already satisfied: filelock in /usr/local/lib/python3.7/dist-packages (from gdown) (3.4.2)\n",
            "Requirement already satisfied: six in /usr/local/lib/python3.7/dist-packages (from gdown) (1.15.0)\n",
            "Requirement already satisfied: beautifulsoup4 in /usr/local/lib/python3.7/dist-packages (from gdown) (4.6.3)\n",
            "Requirement already satisfied: urllib3!=1.25.0,!=1.25.1,<1.26,>=1.21.1 in /usr/local/lib/python3.7/dist-packages (from requests[socks]->gdown) (1.24.3)\n",
            "Requirement already satisfied: chardet<4,>=3.0.2 in /usr/local/lib/python3.7/dist-packages (from requests[socks]->gdown) (3.0.4)\n",
            "Requirement already satisfied: certifi>=2017.4.17 in /usr/local/lib/python3.7/dist-packages (from requests[socks]->gdown) (2021.10.8)\n",
            "Requirement already satisfied: idna<3,>=2.5 in /usr/local/lib/python3.7/dist-packages (from requests[socks]->gdown) (2.10)\n",
            "Requirement already satisfied: PySocks!=1.5.7,>=1.5.6 in /usr/local/lib/python3.7/dist-packages (from requests[socks]->gdown) (1.7.1)\n",
            "Downloading...\n",
            "From: https://drive.google.com/uc?id=1tyfX0kv6qvA14JgmCkI4xU2zu0eaIIma\n",
            "To: /content/data.zip\n",
            "100% 160k/160k [00:00<00:00, 60.1MB/s]\n",
            "Archive:  ./data.zip\n",
            "   creating: geo-data-ml-class/\n",
            "  inflating: __MACOSX/._geo-data-ml-class  \n",
            "  inflating: geo-data-ml-class/.DS_Store  \n",
            "  inflating: __MACOSX/geo-data-ml-class/._.DS_Store  \n",
            "  inflating: geo-data-ml-class/dev.enfnamepair  \n",
            "  inflating: geo-data-ml-class/train.enfnamepair  \n",
            "   creating: geo-data-ml-class/.ipynb_checkpoints/\n",
            "  inflating: geo-data-ml-class/train.vocab  \n"
          ]
        }
      ],
      "source": [
        "!pip install gdown\n",
        "!gdown https://drive.google.com/uc?id=1tyfX0kv6qvA14JgmCkI4xU2zu0eaIIma -O data.zip\n",
        "!unzip ./data.zip"
      ]
    },
    {
      "cell_type": "code",
      "execution_count": null,
      "metadata": {
        "id": "drSuUbrL_PgZ"
      },
      "outputs": [],
      "source": [
        "import pandas as pd\n",
        "import pickle\n",
        "from scipy.sparse import coo_matrix, hstack\n",
        "\n",
        "train = pd.read_csv('geo-data-ml-class/train.enfnamepair', sep=',')\n",
        "dev = pd.read_csv('geo-data-ml-class/dev.enfnamepair', sep=',')\n",
        "# test = pd.load('geo-data-ml-class/test.csv')"
      ]
    },
    {
      "cell_type": "code",
      "execution_count": null,
      "metadata": {
        "colab": {
          "base_uri": "https://localhost:8080/"
        },
        "id": "sW32U3KDZj8c",
        "outputId": "7889e100-5191-433a-a6bc-214d783edbe4"
      },
      "outputs": [
        {
          "output_type": "execute_result",
          "data": {
            "text/plain": [
              "Index(['label', '#1 ID', '#2 ID', 'sentence1', 'sentence2'], dtype='object')"
            ]
          },
          "metadata": {},
          "execution_count": 3
        }
      ],
      "source": [
        "train.columns"
      ]
    },
    {
      "cell_type": "code",
      "execution_count": null,
      "metadata": {
        "colab": {
          "base_uri": "https://localhost:8080/",
          "height": 423
        },
        "id": "2klyjvv3_Pgb",
        "outputId": "2ecab448-6946-4bc9-851c-2b5765b0d9b1"
      },
      "outputs": [
        {
          "output_type": "execute_result",
          "data": {
            "text/html": [
              "\n",
              "  <div id=\"df-bcf91877-d848-4cca-ad60-38fa58e8d8d4\">\n",
              "    <div class=\"colab-df-container\">\n",
              "      <div>\n",
              "<style scoped>\n",
              "    .dataframe tbody tr th:only-of-type {\n",
              "        vertical-align: middle;\n",
              "    }\n",
              "\n",
              "    .dataframe tbody tr th {\n",
              "        vertical-align: top;\n",
              "    }\n",
              "\n",
              "    .dataframe thead th {\n",
              "        text-align: right;\n",
              "    }\n",
              "</style>\n",
              "<table border=\"1\" class=\"dataframe\">\n",
              "  <thead>\n",
              "    <tr style=\"text-align: right;\">\n",
              "      <th></th>\n",
              "      <th>label</th>\n",
              "      <th>#1 ID</th>\n",
              "      <th>#2 ID</th>\n",
              "      <th>sentence1</th>\n",
              "      <th>sentence2</th>\n",
              "    </tr>\n",
              "  </thead>\n",
              "  <tbody>\n",
              "    <tr>\n",
              "      <th>3000</th>\n",
              "      <td>1</td>\n",
              "      <td>next_to:t</td>\n",
              "      <td>88</td>\n",
              "      <td>next _ to : t</td>\n",
              "      <td>how mani state border s0</td>\n",
              "    </tr>\n",
              "    <tr>\n",
              "      <th>3001</th>\n",
              "      <td>0</td>\n",
              "      <td>size:i</td>\n",
              "      <td>88</td>\n",
              "      <td>size : i</td>\n",
              "      <td>how mani state border s0</td>\n",
              "    </tr>\n",
              "    <tr>\n",
              "      <th>3002</th>\n",
              "      <td>1</td>\n",
              "      <td>count</td>\n",
              "      <td>88</td>\n",
              "      <td>count</td>\n",
              "      <td>how mani state border s0</td>\n",
              "    </tr>\n",
              "    <tr>\n",
              "      <th>3003</th>\n",
              "      <td>0</td>\n",
              "      <td>elevation:i</td>\n",
              "      <td>88</td>\n",
              "      <td>elevation : i</td>\n",
              "      <td>how mani state border s0</td>\n",
              "    </tr>\n",
              "    <tr>\n",
              "      <th>3004</th>\n",
              "      <td>0</td>\n",
              "      <td>argmin</td>\n",
              "      <td>88</td>\n",
              "      <td>argmin</td>\n",
              "      <td>how mani state border s0</td>\n",
              "    </tr>\n",
              "    <tr>\n",
              "      <th>...</th>\n",
              "      <td>...</td>\n",
              "      <td>...</td>\n",
              "      <td>...</td>\n",
              "      <td>...</td>\n",
              "      <td>...</td>\n",
              "    </tr>\n",
              "    <tr>\n",
              "      <th>3095</th>\n",
              "      <td>1</td>\n",
              "      <td>loc:t</td>\n",
              "      <td>91</td>\n",
              "      <td>loc : t</td>\n",
              "      <td>what river flow through s0</td>\n",
              "    </tr>\n",
              "    <tr>\n",
              "      <th>3096</th>\n",
              "      <td>0</td>\n",
              "      <td>state:t</td>\n",
              "      <td>91</td>\n",
              "      <td>state : t</td>\n",
              "      <td>what river flow through s0</td>\n",
              "    </tr>\n",
              "    <tr>\n",
              "      <th>3097</th>\n",
              "      <td>1</td>\n",
              "      <td>lambda</td>\n",
              "      <td>91</td>\n",
              "      <td>lambda</td>\n",
              "      <td>what river flow through s0</td>\n",
              "    </tr>\n",
              "    <tr>\n",
              "      <th>3098</th>\n",
              "      <td>0</td>\n",
              "      <td>argmax</td>\n",
              "      <td>91</td>\n",
              "      <td>argmax</td>\n",
              "      <td>what river flow through s0</td>\n",
              "    </tr>\n",
              "    <tr>\n",
              "      <th>3099</th>\n",
              "      <td>1</td>\n",
              "      <td>river:t</td>\n",
              "      <td>91</td>\n",
              "      <td>river : t</td>\n",
              "      <td>what river flow through s0</td>\n",
              "    </tr>\n",
              "  </tbody>\n",
              "</table>\n",
              "<p>100 rows × 5 columns</p>\n",
              "</div>\n",
              "      <button class=\"colab-df-convert\" onclick=\"convertToInteractive('df-bcf91877-d848-4cca-ad60-38fa58e8d8d4')\"\n",
              "              title=\"Convert this dataframe to an interactive table.\"\n",
              "              style=\"display:none;\">\n",
              "        \n",
              "  <svg xmlns=\"http://www.w3.org/2000/svg\" height=\"24px\"viewBox=\"0 0 24 24\"\n",
              "       width=\"24px\">\n",
              "    <path d=\"M0 0h24v24H0V0z\" fill=\"none\"/>\n",
              "    <path d=\"M18.56 5.44l.94 2.06.94-2.06 2.06-.94-2.06-.94-.94-2.06-.94 2.06-2.06.94zm-11 1L8.5 8.5l.94-2.06 2.06-.94-2.06-.94L8.5 2.5l-.94 2.06-2.06.94zm10 10l.94 2.06.94-2.06 2.06-.94-2.06-.94-.94-2.06-.94 2.06-2.06.94z\"/><path d=\"M17.41 7.96l-1.37-1.37c-.4-.4-.92-.59-1.43-.59-.52 0-1.04.2-1.43.59L10.3 9.45l-7.72 7.72c-.78.78-.78 2.05 0 2.83L4 21.41c.39.39.9.59 1.41.59.51 0 1.02-.2 1.41-.59l7.78-7.78 2.81-2.81c.8-.78.8-2.07 0-2.86zM5.41 20L4 18.59l7.72-7.72 1.47 1.35L5.41 20z\"/>\n",
              "  </svg>\n",
              "      </button>\n",
              "      \n",
              "  <style>\n",
              "    .colab-df-container {\n",
              "      display:flex;\n",
              "      flex-wrap:wrap;\n",
              "      gap: 12px;\n",
              "    }\n",
              "\n",
              "    .colab-df-convert {\n",
              "      background-color: #E8F0FE;\n",
              "      border: none;\n",
              "      border-radius: 50%;\n",
              "      cursor: pointer;\n",
              "      display: none;\n",
              "      fill: #1967D2;\n",
              "      height: 32px;\n",
              "      padding: 0 0 0 0;\n",
              "      width: 32px;\n",
              "    }\n",
              "\n",
              "    .colab-df-convert:hover {\n",
              "      background-color: #E2EBFA;\n",
              "      box-shadow: 0px 1px 2px rgba(60, 64, 67, 0.3), 0px 1px 3px 1px rgba(60, 64, 67, 0.15);\n",
              "      fill: #174EA6;\n",
              "    }\n",
              "\n",
              "    [theme=dark] .colab-df-convert {\n",
              "      background-color: #3B4455;\n",
              "      fill: #D2E3FC;\n",
              "    }\n",
              "\n",
              "    [theme=dark] .colab-df-convert:hover {\n",
              "      background-color: #434B5C;\n",
              "      box-shadow: 0px 1px 3px 1px rgba(0, 0, 0, 0.15);\n",
              "      filter: drop-shadow(0px 1px 2px rgba(0, 0, 0, 0.3));\n",
              "      fill: #FFFFFF;\n",
              "    }\n",
              "  </style>\n",
              "\n",
              "      <script>\n",
              "        const buttonEl =\n",
              "          document.querySelector('#df-bcf91877-d848-4cca-ad60-38fa58e8d8d4 button.colab-df-convert');\n",
              "        buttonEl.style.display =\n",
              "          google.colab.kernel.accessAllowed ? 'block' : 'none';\n",
              "\n",
              "        async function convertToInteractive(key) {\n",
              "          const element = document.querySelector('#df-bcf91877-d848-4cca-ad60-38fa58e8d8d4');\n",
              "          const dataTable =\n",
              "            await google.colab.kernel.invokeFunction('convertToInteractive',\n",
              "                                                     [key], {});\n",
              "          if (!dataTable) return;\n",
              "\n",
              "          const docLinkHtml = 'Like what you see? Visit the ' +\n",
              "            '<a target=\"_blank\" href=https://colab.research.google.com/notebooks/data_table.ipynb>data table notebook</a>'\n",
              "            + ' to learn more about interactive tables.';\n",
              "          element.innerHTML = '';\n",
              "          dataTable['output_type'] = 'display_data';\n",
              "          await google.colab.output.renderOutput(dataTable, element);\n",
              "          const docLink = document.createElement('div');\n",
              "          docLink.innerHTML = docLinkHtml;\n",
              "          element.appendChild(docLink);\n",
              "        }\n",
              "      </script>\n",
              "    </div>\n",
              "  </div>\n",
              "  "
            ],
            "text/plain": [
              "      label        #1 ID  #2 ID      sentence1                   sentence2\n",
              "3000      1    next_to:t     88  next _ to : t    how mani state border s0\n",
              "3001      0       size:i     88       size : i    how mani state border s0\n",
              "3002      1        count     88          count    how mani state border s0\n",
              "3003      0  elevation:i     88  elevation : i    how mani state border s0\n",
              "3004      0       argmin     88         argmin    how mani state border s0\n",
              "...     ...          ...    ...            ...                         ...\n",
              "3095      1        loc:t     91        loc : t  what river flow through s0\n",
              "3096      0      state:t     91      state : t  what river flow through s0\n",
              "3097      1       lambda     91         lambda  what river flow through s0\n",
              "3098      0       argmax     91         argmax  what river flow through s0\n",
              "3099      1      river:t     91      river : t  what river flow through s0\n",
              "\n",
              "[100 rows x 5 columns]"
            ]
          },
          "metadata": {},
          "execution_count": 4
        }
      ],
      "source": [
        "train.iloc[3000:3100]"
      ]
    },
    {
      "cell_type": "markdown",
      "metadata": {
        "id": "Rk4tQ3ZaW-P8"
      },
      "source": [
        "## 2. Preprocessing data\n",
        "\n",
        "- Concat 2 columns \"sentence1\" and \"sentence2\" as a document. \n",
        "- Use Tfidf technique ([Tfidf document](https://scikit-learn.org/stable/modules/feature_extraction.html#tfidf-term-weighting)) to convert document into vector. We convert all training data, development data into vector."
      ]
    },
    {
      "cell_type": "code",
      "execution_count": null,
      "metadata": {
        "colab": {
          "base_uri": "https://localhost:8080/"
        },
        "id": "0z7N_tJP_Pgb",
        "outputId": "d758e160-c2ac-4f80-ca40-462608bebd20"
      },
      "outputs": [
        {
          "output_type": "execute_result",
          "data": {
            "text/plain": [
              "0          and where is c0\n",
              "1      loc : t where is c0\n",
              "2    state : t where is c0\n",
              "3       lambda where is c0\n",
              "4       argmax where is c0\n",
              "dtype: object"
            ]
          },
          "metadata": {},
          "execution_count": 5
        }
      ],
      "source": [
        "\n",
        "import re\n",
        "def func_name_norm(f_name):\n",
        "    f_name = f_name.strip().replace(\":\", \" : \").replace(\"_\", \" _ \")\n",
        "    f_name = re.sub(r' {2,}', ' ', f_name)\n",
        "    return f_name\n",
        "\n",
        "train_text_concatination = train[['sentence1', 'sentence2']].agg(' '.join, axis=1)\n",
        "train_text_concatination.head()"
      ]
    },
    {
      "cell_type": "code",
      "execution_count": null,
      "metadata": {
        "id": "JZc2qQmF_Pgc"
      },
      "outputs": [],
      "source": [
        "from sklearn.feature_extraction.text import TfidfVectorizer\n",
        "\n",
        "vectorizer = TfidfVectorizer().fit(train_text_concatination)"
      ]
    },
    {
      "cell_type": "code",
      "execution_count": null,
      "metadata": {
        "id": "eOX7I6c7_Pgc"
      },
      "outputs": [],
      "source": [
        "def data_frame_to_vector2(df):\n",
        "    text_concatination = df[['sentence1', 'sentence2']].agg(' '.join, axis=1)\n",
        "    return vectorizer.transform(text_concatination)\n",
        "        "
      ]
    },
    {
      "cell_type": "code",
      "execution_count": null,
      "metadata": {
        "id": "IyL83GFu_Pgc"
      },
      "outputs": [],
      "source": [
        "train_data_vector = data_frame_to_vector2(train)\n",
        "dev_data_vector = data_frame_to_vector2(dev)"
      ]
    },
    {
      "cell_type": "markdown",
      "metadata": {
        "id": "VKlRiQq2Y_0X"
      },
      "source": [
        "## 3. Build model and train it (Editable)\n",
        "\n",
        "- Build model by your self (using sklearn library or external library is accepted). \n",
        "- Training and optimize your model to get best performance on development set.\n",
        "- Finally, save your model prediction in variable **pred** (list of int value 0 or 1) for evaluation in next step."
      ]
    },
    {
      "cell_type": "code",
      "execution_count": null,
      "metadata": {
        "id": "hlCstuVU_Pgd",
        "colab": {
          "base_uri": "https://localhost:8080/"
        },
        "outputId": "9e0e5540-b7dd-459c-ffaf-77285752ce07"
      },
      "outputs": [
        {
          "output_type": "stream",
          "name": "stderr",
          "text": [
            "/usr/local/lib/python3.7/dist-packages/sklearn/neural_network/_multilayer_perceptron.py:549: ConvergenceWarning: lbfgs failed to converge (status=1):\n",
            "STOP: TOTAL NO. of ITERATIONS REACHED LIMIT.\n",
            "\n",
            "Increase the number of iterations (max_iter) or scale the data as shown in:\n",
            "    https://scikit-learn.org/stable/modules/preprocessing.html\n",
            "  self.n_iter_ = _check_optimize_result(\"lbfgs\", opt_res, self.max_iter)\n"
          ]
        }
      ],
      "source": [
        " \n",
        "from sklearn.neural_network import MLPClassifier\n",
        "#  build model \n",
        "cls = MLPClassifier(activation='relu', alpha=1e-05, batch_size='auto', beta_1=0.9,\n",
        "       beta_2=0.999, early_stopping=True, epsilon=1e-08,\n",
        "       hidden_layer_sizes=(100, 100), learning_rate='constant',\n",
        "       learning_rate_init=0.001, max_iter=200, momentum=0.9,\n",
        "       nesterovs_momentum=True, power_t=0.5, random_state=1, shuffle=True,\n",
        "       solver='lbfgs', tol=0.001, validation_fraction=0.1, verbose=True,\n",
        "       warm_start=False)\n",
        "\n",
        "cls.fit(train_data_vector.toarray()  , train['label'])\n",
        "pred = cls.predict(dev_data_vector.toarray() )\n"
      ]
    },
    {
      "cell_type": "code",
      "execution_count": null,
      "metadata": {
        "colab": {
          "base_uri": "https://localhost:8080/"
        },
        "id": "1UhfOZA8bBpp",
        "outputId": "acadf463-47de-40dc-b418-0138c5800cb5"
      },
      "outputs": [
        {
          "output_type": "execute_result",
          "data": {
            "text/plain": [
              "array([0, 1, 0, 1, 0, 0, 0, 0, 0, 0])"
            ]
          },
          "metadata": {},
          "execution_count": 10
        }
      ],
      "source": [
        "pred[:10] # show first 10 values of the prediction "
      ]
    },
    {
      "cell_type": "markdown",
      "metadata": {
        "id": "9dV30-D5aJ65"
      },
      "source": [
        "## 4. Evaluate your model prediction (**Uneditable**)\n",
        "\n",
        "- Build model by your-self (using sklearn library or external library is accepted). \n",
        "- Training and optimize your model to get best performance on development set.\n",
        "- Note: **Undeditable** mean that edit this block code is not accepted. "
      ]
    },
    {
      "cell_type": "code",
      "execution_count": null,
      "metadata": {
        "colab": {
          "base_uri": "https://localhost:8080/"
        },
        "id": "anMWyfT2_Pgd",
        "outputId": "1f145aae-b997-440f-b57d-8681ffeaba8f"
      },
      "outputs": [
        {
          "output_type": "stream",
          "name": "stdout",
          "text": [
            "              precision    recall  f1-score   support\n",
            "\n",
            "           0       0.99      0.98      0.99      3097\n",
            "           1       0.85      0.90      0.87       303\n",
            "\n",
            "    accuracy                           0.98      3400\n",
            "   macro avg       0.92      0.94      0.93      3400\n",
            "weighted avg       0.98      0.98      0.98      3400\n",
            "\n"
          ]
        },
        {
          "output_type": "execute_result",
          "data": {
            "text/plain": [
              "(0.8478260869565217, 0.900990099009901, 0.8735999999999999)"
            ]
          },
          "metadata": {},
          "execution_count": 11
        }
      ],
      "source": [
        "from sklearn.metrics import *\n",
        "print(classification_report(dev['label'], pred))\n",
        "precision_score(dev['label'], pred), recall_score(dev['label'], pred), f1_score(dev['label'], pred, pos_label=1)"
      ]
    },
    {
      "cell_type": "code",
      "execution_count": null,
      "metadata": {
        "id": "1qI7cxRT_Pge"
      },
      "outputs": [],
      "source": [
        ""
      ]
    }
  ],
  "metadata": {
    "colab": {
      "collapsed_sections": [],
      "name": "“ML-miniproj-text_classification(2).ipynb”的副本",
      "provenance": []
    },
    "interpreter": {
      "hash": "532e403fbd05bcd0f1d2758c7bc0ed12422dace42172466a27729aac675dbf06"
    },
    "kernelspec": {
      "display_name": "Python 3.8.5 64-bit ('py38-p': conda)",
      "language": "python",
      "name": "python3"
    },
    "language_info": {
      "codemirror_mode": {
        "name": "ipython",
        "version": 3
      },
      "file_extension": ".py",
      "mimetype": "text/x-python",
      "name": "python",
      "nbconvert_exporter": "python",
      "pygments_lexer": "ipython3",
      "version": "3.8.5"
    },
    "orig_nbformat": 4
  },
  "nbformat": 4,
  "nbformat_minor": 0
}