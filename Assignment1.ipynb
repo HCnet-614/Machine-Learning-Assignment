{
 "cells": [
  {
   "cell_type": "code",
   "execution_count": 21,
   "source": [
    "import numpy as np\n",
    "\n",
    "def stat(x):\n",
    "    \n",
    "    x_mean = np.mean(x)\n",
    "    x_var = np.var(x,ddof = 1)  #ddof = 1 can get the sample variance\n",
    "    x_std = round(np.std(x,ddof = 1),2)  # round(x,2)->round the value up with 2 digits \n",
    "    print(\"mean is\",x_mean)\n",
    "    print(\"variance is\",x_var)\n",
    "    print(\"standard deviation is\",x_std)\n",
    "    \n",
    "def normalization(x):\n",
    "    \n",
    "    x_max = max(x)\n",
    "    x_min = min(x)\n",
    "    norm = []\n",
    "    #The value of x is processed and added to norm[] through a loop\n",
    "    for i in x:  \n",
    "        a = round((i - x_min) / (x_max - x_min),2)\n",
    "        norm.append(a)\n",
    "    print(\"after normalization\",norm)\n",
    "    \n",
    "    #Calculate the mean, variance and standard deviation of them respectively\n",
    "    norm_mean = round(np.mean(norm),2)\n",
    "    norm_var = round(np.var(norm,ddof = 1),2)\n",
    "    norm_std = round(np.std(norm,ddof = 1),2)\n",
    "    print(\"mean is\",norm_mean)\n",
    "    print(\"variance is\",norm_var)\n",
    "    print(\"standard deviation is:\",norm_std)\n",
    "\n",
    "def standardization(x):\n",
    "    \n",
    "    x_mean = np.mean(x)\n",
    "    x_var = np.var(x,ddof = 1)\n",
    "    x_std = round(np.std(x,ddof = 1),2)\n",
    "    stand= []\n",
    "    #The value of x is processed and added to stand[] through a loop\n",
    "    for i in x:\n",
    "        a = round(((i - x_mean ) / x_std),2)\n",
    "        stand.append(a)\n",
    "    print(\"after standardization:\",stand)\n",
    "\n",
    "x = [10, 7, -22, 4, -9 ]   \n",
    "print('1:')\n",
    "stat(x)\n",
    "print()\n",
    "print('2:')\n",
    "normalization(x)\n",
    "print()\n",
    "print('3:')\n",
    "standardization(x)\n",
    "print()"
   ],
   "outputs": [
    {
     "output_type": "stream",
     "name": "stdout",
     "text": [
      "1:\n",
      "mean is -2.0\n",
      "variance is 177.5\n",
      "standard deviation is 13.32\n",
      "\n",
      "2:\n",
      "after normalization [1.0, 0.91, 0.0, 0.81, 0.41]\n",
      "mean is 0.63\n",
      "variance is 0.17\n",
      "standard deviation is: 0.42\n",
      "\n",
      "3:\n",
      "after standardization: [0.9, 0.68, -1.5, 0.45, -0.53]\n",
      "\n"
     ]
    }
   ],
   "metadata": {}
  }
 ],
 "metadata": {
  "interpreter": {
   "hash": "b81a20390b8c100317a1c1a5ac17204689f86b780219a584bb5cca72131ec596"
  },
  "kernelspec": {
   "display_name": "Python 3",
   "language": "python",
   "name": "python3"
  },
  "language_info": {
   "codemirror_mode": {
    "name": "ipython",
    "version": 3
   },
   "file_extension": ".py",
   "mimetype": "text/x-python",
   "name": "python",
   "nbconvert_exporter": "python",
   "pygments_lexer": "ipython3",
   "version": "3.7.4"
  }
 },
 "nbformat": 4,
 "nbformat_minor": 2
}